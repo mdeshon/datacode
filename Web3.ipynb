{
  "nbformat": 4,
  "nbformat_minor": 0,
  "metadata": {
    "colab": {
      "provenance": [],
      "authorship_tag": "ABX9TyPw1P+qEDo4V14i6GDRXkAX"
    },
    "kernelspec": {
      "name": "python3",
      "display_name": "Python 3"
    },
    "language_info": {
      "name": "python"
    }
  },
  "cells": [
    {
      "cell_type": "code",
      "source": [
        "# Download the CSV file\n",
        "!wget https://raw.githubusercontent.com/mdeshon/datacode/main/Etherscan-export.csv"
      ],
      "metadata": {
        "id": "1pAAm3YhUyAh"
      },
      "execution_count": null,
      "outputs": []
    },
    {
      "cell_type": "code",
      "source": [
        "import pandas as pd\n",
        "\n",
        "# Load the CSV into a Pandas DataFrame\n",
        "df = pd.read_csv(\n",
        "    'Etherscan-export.csv',\n",
        "    dtype={\n",
        "        'Value_OUT(ETH)': pd.Float32Dtype(),\n",
        "        'Value_IN(ETH)': pd.Float32Dtype(),\n",
        "        }\n",
        ")\n",
        "\n",
        "df['Datetime'] = pd.to_datetime(df['UnixTimestamp'], unit='s')\n",
        "# Rename 'CurrentValue @...' column so the name does not contain the current Ethereum price\n",
        "for column in df.columns:\n",
        "  if 'CurrentValue' in column:\n",
        "    df.rename(columns={column: 'CurrentValue'}, inplace=True)\n",
        "\n",
        "\n",
        "# Display the first few rows of the DataFrame\n",
        "print(df.head())\n"
      ],
      "metadata": {
        "id": "e-y4W4oHTv3W"
      },
      "execution_count": null,
      "outputs": []
    },
    {
      "cell_type": "code",
      "source": [
        "df"
      ],
      "metadata": {
        "id": "8Q_h6ofpXzrG"
      },
      "execution_count": null,
      "outputs": []
    }
  ]
}