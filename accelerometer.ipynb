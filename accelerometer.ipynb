{
  "nbformat": 4,
  "nbformat_minor": 0,
  "metadata": {
    "colab": {
      "provenance": [],
      "authorship_tag": "ABX9TyOZDjdCAsS75ZqsRxFxu9s4"
    },
    "kernelspec": {
      "name": "python3",
      "display_name": "Python 3"
    },
    "language_info": {
      "name": "python"
    }
  },
  "cells": [
    {
      "cell_type": "code",
      "execution_count": null,
      "metadata": {
        "id": "mpBOWDPC6Aax"
      },
      "outputs": [],
      "source": [
        "from google.colab import userdata\n",
        "import kagglehub\n",
        "\n",
        "username = userdata.get('KAGGLE_USERNAME')\n",
        "key = userdata.get('KAGGLE_KEY')\n",
        "\n",
        "# Download latest version\n",
        "path = kagglehub.dataset_download(\"harnoor343/fall-detection-accelerometer-data\")\n",
        "\n",
        "print(\"Path to dataset files:\", path)"
      ]
    },
    {
      "cell_type": "code",
      "source": [
        "\n",
        "import pandas as pd\n",
        "import glob\n",
        "import os\n",
        "\n",
        "freeFall = os.path.join(path, 'freeFall')\n",
        "csv_files = glob.glob(os.path.join(freeFall, '*.csv'))\n",
        "\n",
        "df_list = []\n",
        "for file in csv_files:\n",
        "    df = pd.read_csv(\n",
        "        file,\n",
        "        sep=\";\",\n",
        "        dtype={'Timestamp': pd.Float64Dtype(),\n",
        "               'AccelerationX': pd.Float32Dtype(),\n",
        "               'AccelerationY': pd.Float32Dtype(),\n",
        "               'AccelerationZ': pd.Float32Dtype()}\n",
        "    )\n",
        "    df['Datetime'] = pd.to_datetime(df['Timestamp'], unit='s')\n",
        "    df.drop('Label', axis=1, inplace=True)\n",
        "    df_list.append(df)\n",
        "\n",
        "# Concatenate all dataframes into a single dataframe\n",
        "combined_df = pd.concat(df_list, ignore_index=True)\n",
        "\n",
        "print(combined_df.head())\n"
      ],
      "metadata": {
        "id": "Seh9RpuHHaKY"
      },
      "execution_count": null,
      "outputs": []
    }
  ]
}