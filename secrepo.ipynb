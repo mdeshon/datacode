{
  "nbformat": 4,
  "nbformat_minor": 0,
  "metadata": {
    "colab": {
      "provenance": []
    },
    "kernelspec": {
      "name": "python3",
      "display_name": "Python 3"
    },
    "language_info": {
      "name": "python"
    }
  },
  "cells": [
    {
      "cell_type": "code",
      "execution_count": null,
      "metadata": {
        "id": "zMNDRJsunmVJ"
      },
      "outputs": [],
      "source": [
        "import pandas as pd\n",
        "import re\n",
        "import requests\n",
        "import gzip\n",
        "from io import BytesIO\n",
        "import ipaddress\n",
        "\n",
        "urls = [\n",
        "    \"http://www.secrepo.com/self.logs/access.log.2025-01-30.gz\",\n",
        "    \"http://www.secrepo.com/self.logs/access.log.2025-01-31.gz\",\n",
        "    \"http://www.secrepo.com/self.logs/access.log.2025-02-01.gz\",\n",
        "    \"http://www.secrepo.com/self.logs/access.log.2025-02-02.gz\"\n",
        "]\n",
        "\n",
        "# Regular expression with named capture groups\n",
        "regex_pattern = r'''(?P<SourceIp>\\d{1,3}\\.\\d{1,3}\\.\\d{1,3}\\.\\d{1,3}) - (?P<RemoteUser>\\S+) \\[(?P<TimeLocal>.*?)\\] \"(?P<Request>.*?)\" (?P<Status>\\d+) (?P<BodyBytesSent>\\d+) \"(?P<HttpReferer>.*?)\" \"(?P<HttpUserAgent>.*?)\"'''\n",
        "compiled_regex = re.compile(regex_pattern)\n",
        "\n",
        "# Function to extract groups\n",
        "def extract_groups(text):\n",
        "    match = compiled_regex.match(text)\n",
        "    if match:\n",
        "        return match.groupdict()\n",
        "    else:\n",
        "        return {name: None for name in compiled_regex.groupindex}\n",
        "\n",
        "\n",
        "try:\n",
        "    content = \"\"\n",
        "    for url in urls:\n",
        "      response = requests.get(url, stream=True)\n",
        "      response.raise_for_status()  # Raise an exception for bad status codes\n",
        "\n",
        "      # Decompress the gzip file\n",
        "      gzip_file = gzip.GzipFile(fileobj=BytesIO(response.content))\n",
        "      one_content = gzip_file.read().decode('utf-8') # Decode to string\n",
        "      content += one_content\n",
        "\n",
        "    # Split the content into lines and extract data\n",
        "    lines = content.splitlines()\n",
        "    extracted_data = [extract_groups(line) for line in lines]\n",
        "\n",
        "    # Create the DataFrame\n",
        "    df = pd.DataFrame(extracted_data)\n",
        "\n",
        "    # Replace '-' with None\n",
        "    df.replace('-', None, inplace=True)\n",
        "    df['TimeLocal'] = pd.to_datetime(df['TimeLocal'], format='%d/%b/%Y:%H:%M:%S %z', errors='coerce')\n",
        "    df.drop('RemoteUser', axis=1, inplace=True)\n",
        "    df['Status'] = pd.to_numeric(df['Status'], errors='coerce')\n",
        "    df['BodyBytesSent'] = pd.to_numeric(df['BodyBytesSent'], errors='coerce')\n",
        "    df['SourceIp'] = df['SourceIp'].apply(ipaddress.ip_address)\n",
        "\n",
        "    print(df.head())\n",
        "\n",
        "except requests.exceptions.RequestException as e:\n",
        "    print(f\"Error downloading file: {e}\")\n",
        "except Exception as e:\n",
        "    print(f\"An error occurred: {e}\")"
      ]
    }
  ]
}
