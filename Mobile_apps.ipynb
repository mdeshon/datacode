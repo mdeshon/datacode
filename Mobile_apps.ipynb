{
  "nbformat": 4,
  "nbformat_minor": 0,
  "metadata": {
    "colab": {
      "provenance": [],
      "authorship_tag": "ABX9TyNkiSJO7hr5AYFtbY843VBo",
      "include_colab_link": true
    },
    "kernelspec": {
      "name": "python3",
      "display_name": "Python 3"
    },
    "language_info": {
      "name": "python"
    }
  },
  "cells": [
    {
      "cell_type": "markdown",
      "metadata": {
        "id": "view-in-github",
        "colab_type": "text"
      },
      "source": [
        "<a href=\"https://colab.research.google.com/github/mdeshon/datacode/blob/main/Mobile_apps.ipynb\" target=\"_parent\"><img src=\"https://colab.research.google.com/assets/colab-badge.svg\" alt=\"Open In Colab\"/></a>"
      ]
    },
    {
      "cell_type": "code",
      "execution_count": null,
      "metadata": {
        "id": "B7tbqXyLKFCC"
      },
      "outputs": [],
      "source": [
        "!wget https://androidobservatory.com/files/preinstalled_apps_data.json.xz"
      ]
    },
    {
      "cell_type": "code",
      "source": [
        "import lzma\n",
        "import json\n",
        "import pandas as pd\n",
        "\n",
        "\n",
        "with lzma.open(\"preinstalled_apps_data.json.xz\") as f:\n",
        "    data = f.read()\n",
        "\n",
        "decoded = [json.loads(x.decode('utf8')) for x in data.splitlines()]\n",
        "df = pd.DataFrame(decoded)\n",
        "\n",
        "del data"
      ],
      "metadata": {
        "id": "lvl1zUBBKLgx"
      },
      "execution_count": null,
      "outputs": []
    },
    {
      "cell_type": "code",
      "source": [
        "print(json.dumps(decoded[0], indent=4))\n",
        "del decoded"
      ],
      "metadata": {
        "id": "ygG9dipmR0Ou"
      },
      "execution_count": null,
      "outputs": []
    },
    {
      "cell_type": "code",
      "source": [
        "df.head(3)"
      ],
      "metadata": {
        "id": "vJF7dpu9LMGu"
      },
      "execution_count": null,
      "outputs": []
    }
  ]
}